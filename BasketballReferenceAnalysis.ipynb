{
 "cells": [
  {
   "cell_type": "markdown",
   "metadata": {},
   "source": [
    "# **Analiza Sezon is Košarkaške Zveze NBA**\n",
    "\n",
    "Podatki so pobrani iz spletne strani [Basketball Reference](https://www.basketball-reference.com/). Poiskal bom največje število zmag znotraj ene sezone in najbolj dominantno ekipo in leto dominance."
   ]
  },
  {
   "cell_type": "markdown",
   "metadata": {},
   "source": [
    "Definiranje konstant in osnovnih funkcij za urejanje podatkov. V funkciji Scraper je dodan `time.sleep(5)` zaradi pogoste napake spletne strani `429 - Too many requests`. Scrapanje traja 3 minute :\\)"
   ]
  },
  {
   "cell_type": "code",
   "execution_count": 1,
   "metadata": {},
   "outputs": [],
   "source": [
    "import requests\n",
    "from bs4 import BeautifulSoup\n",
    "import time\n",
    "import matplotlib.pyplot as plt\n",
    "import json\n",
    "\n",
    "\n",
    "ALL_TEAMS = (\"ATL\", \"BOS\", \"NJN\", \"CHA\", \"CHI\", \"CLE\", \"DAL\", \"DEN\", \"DET\", \"GSW\", \n",
    "\"HOU\", \"IND\", \"LAC\", \"LAL\", \"MEM\", \"MIA\", \"MIL\", \"MIN\", \"NOH\", \"NYK\", \"OKC\", \n",
    "\"ORL\", \"PHI\", \"PHO\", \"POR\", \"SAC\", \"SAS\", \"TOR\", \"UTA\", \"WAS\")\n",
    "\n",
    "def Scraper(teams: tuple) -> dict:\n",
    "    \"\"\"Scrape statistics from the desired teams and year dates\"\"\"\n",
    "    data = dict()\n",
    "    for team in teams:\n",
    "        time.sleep(5)\n",
    "        data[team] = dict()\n",
    "        request = requests.get(f\"https://www.basketball-reference.com/teams/{team}/\")\n",
    "        soup = Table_rows(BeautifulSoup(request.text, 'html.parser'))\n",
    "        for row in soup[1:]:\n",
    "            data[team][Season_year(row)] = dict()\n",
    "            for cell in Table_cells(row):\n",
    "                name = cell[\"data-stat\"]\n",
    "                if name not in {\"DUMMY\", \"lg_id\", \"coaches\", \"top_ws\", \"rank_team_playoffs\", \"team_name\"}:\n",
    "                    data[team][Season_year(row)][name] = cell.text\n",
    "    with open(\"data.json\", \"w\") as file:\n",
    "        json.dump(data, file)\n",
    "    return data\n",
    "\n",
    "def Table_rows(soup: str) -> list:\n",
    "    \"\"\"Takes HTML5 and returns table rows\"\"\"\n",
    "    return soup.find(\"table\").find_all(\"tr\")\n",
    "\n",
    "def Table_cells(row):\n",
    "    \"\"\"Returns all tables cell from given row\"\"\"\n",
    "    return row.find_all(\"td\")\n",
    "\n",
    "def Season_year(row):\n",
    "    \"\"\"Returns the year of the season\"\"\"\n",
    "    return row.find_all(\"th\")[0].text\n",
    "\n",
    "data = Scraper(ALL_TEAMS)"
   ]
  },
  {
   "cell_type": "markdown",
   "metadata": {},
   "source": [
    "# Sortiranje podatkov\n",
    "\n",
    "Funkcija s katero bom sortiral po zmagah. Napisana je tako, da lahko iščem po katerikoli statistiki."
   ]
  },
  {
   "cell_type": "code",
   "execution_count": 2,
   "metadata": {},
   "outputs": [],
   "source": [
    "def Sort_teams(teams: dict[str, dict[str, dict[str, int]]], sort_value: str) -> list[tuple[int, str, str]]:\n",
    "    scores: list[tuple[int, str, str]] = []\n",
    "    for team, team_val in teams.items():\n",
    "        for year, year_val in team_val.items():\n",
    "            scores.append((int(year_val[sort_value]), year, team))\n",
    "    return sorted(scores)[::-1]"
   ]
  },
  {
   "cell_type": "markdown",
   "metadata": {},
   "source": [
    "Spodaj je prikazanih 5 najbolj zmagovitih ekip in sezone v katerih so bile zmage osvojene. Te so Golden State Warriors leta 2016 z 73, Chicago Bulls leta 1996 z 72 in leta 1997 z 69. Los Angeles Lakers leta 1972 z 69 zmagami in Boston Celtics leta 1973 z 68 zmagami."
   ]
  },
  {
   "cell_type": "code",
   "execution_count": 3,
   "metadata": {},
   "outputs": [
    {
     "data": {
      "text/plain": [
       "[(73, '2015-16', 'GSW'),\n",
       " (72, '1995-96', 'CHI'),\n",
       " (69, '1996-97', 'CHI'),\n",
       " (69, '1971-72', 'LAL'),\n",
       " (68, '1972-73', 'BOS')]"
      ]
     },
     "execution_count": 3,
     "metadata": {},
     "output_type": "execute_result"
    }
   ],
   "source": [
    "Sort_teams(data, \"wins\")[:5]"
   ]
  },
  {
   "cell_type": "markdown",
   "metadata": {},
   "source": [
    "Naslednja funkcija ločuje ekipe po mojem kriteriju dominance. Sešteje odstotek zmag, število točk v 100ih posegih in število dovoljenih točk v 100ih posegih (to število je negativno zato sem ga spremenil v pozitivnega). Zaradi praznih nizov sem ustvaril pomožno funkcijo ki jih spremeni v ničle."
   ]
  },
  {
   "cell_type": "code",
   "execution_count": 4,
   "metadata": {},
   "outputs": [],
   "source": [
    "def Float_Zero(value) -> float:\n",
    "    try:\n",
    "        return float(value)\n",
    "    except:\n",
    "        return 0.0\n",
    "\n",
    "def Sort_by_dominance(teams: dict[str, dict[str, dict[str, int]]]) -> list[tuple[int, str, str]]:\n",
    "    scores: list[tuple[int, str, str]] = []\n",
    "    for team, team_val in teams.items():\n",
    "        for year, year_val in team_val.items():\n",
    "            scores.append(((10 * Float_Zero(year_val[\"win_loss_pct\"]) + (Float_Zero(year_val[\"off_rtg_rel\"]) / 100) + (Float_Zero(year_val[\"def_rtg_rel\"]) / -100)), year, team))\n",
    "    return sorted(scores)[::-1]"
   ]
  },
  {
   "cell_type": "markdown",
   "metadata": {},
   "source": [
    "Opazimo, da so najbolj dominantne ekipe tiste, ki so bile tekom let tudi najbolj hvaljene. Te so Golden State Warriors leta 2017, Chicago bulls v koncu 90ih, Los Angeles Lakers v 70ih in Philadelphia 76ers v 60ih."
   ]
  },
  {
   "cell_type": "code",
   "execution_count": 5,
   "metadata": {},
   "outputs": [
    {
     "data": {
      "text/plain": [
       "[(9.007, '2015-16', 'GSW'),\n",
       " (8.914, '1995-96', 'CHI'),\n",
       " (8.53, '1996-97', 'CHI'),\n",
       " (8.515, '1971-72', 'LAL'),\n",
       " (8.476, '1966-67', 'PHI')]"
      ]
     },
     "execution_count": 5,
     "metadata": {},
     "output_type": "execute_result"
    }
   ],
   "source": [
    "Sort_by_dominance(data)[:5]"
   ]
  },
  {
   "cell_type": "markdown",
   "metadata": {},
   "source": [
    "Pomožna funkcija, ki prešteje kolikokrat se ponovi določeno število v seznamu."
   ]
  },
  {
   "cell_type": "code",
   "execution_count": 6,
   "metadata": {},
   "outputs": [],
   "source": [
    "def Count_occurence(data: list[tuple]) -> dict:\n",
    "    \"\"\"Counts how many times a number is listed in given list\"\"\"\n",
    "    count = {}\n",
    "    for i in data:\n",
    "        wins = i[0]\n",
    "        if wins in count:\n",
    "            count[wins] += 1\n",
    "        else:\n",
    "            count[wins] = 1\n",
    "    return count"
   ]
  },
  {
   "cell_type": "markdown",
   "metadata": {},
   "source": [
    "Opazimo odstopanje v številu sezon z 0 zmagami. To je posledica letošnje sezone, ki se še ni začela/končala."
   ]
  },
  {
   "cell_type": "code",
   "execution_count": 7,
   "metadata": {},
   "outputs": [
    {
     "data": {
      "text/plain": [
       "<matplotlib.lines.Line2D at 0x7f30da39bef0>"
      ]
     },
     "execution_count": 7,
     "metadata": {},
     "output_type": "execute_result"
    },
    {
     "data": {
      "image/png": "[encoded data removed]",
      "text/plain": [
       "<Figure size 640x480 with 1 Axes>"
      ]
     },
     "metadata": {},
     "output_type": "display_data"
    }
   ],
   "source": [
    "count = list()\n",
    "for x in Sort_teams(data, \"wins\"):\n",
    "    count.append(x[0])\n",
    "\n",
    "plt.hist(count, bins=range(75), color=\"dodgerblue\")\n",
    "plt.title(\"Pogostost zmag\")\n",
    "plt.xlabel(\"Število zmag v eni sezoni\")\n",
    "plt.ylabel(\"Število pojavitev\")\n",
    "plt.ylim(0, 65)\n",
    "plt.axhline(30, color=\"k\", linestyle=\"dotted\", linewidth=1)"
   ]
  },
  {
   "cell_type": "markdown",
   "metadata": {},
   "source": [
    "# Zaključek\n",
    "\n",
    "Zaradi načina shranjevanja podatkov v slovarje slovarjev slovarjev sem imel težave z dostopanjem do podatkov in njihovim urejanjem. To je tudi vzrok, zakaj ne berem podatkov iz datoteke, čeprav jih tja shranim. Ne vem kako bi pretvoril niz nazaj v slovar, brez da bi izgubil nekaj njegove strukture ali porabil preveč časa/prostora.\n",
    "\n",
    "Sprva sem želel ustvariti program, ki bi potekal v ukazni vrstici, vendar sem to opustil zaradi zahtev predmeta."
   ]
  }
 ],
 "metadata": {
  "kernelspec": {
   "display_name": "Python 3",
   "language": "python",
   "name": "python3"
  },
  "language_info": {
   "codemirror_mode": {
    "name": "ipython",
    "version": 3
   },
   "file_extension": ".py",
   "mimetype": "text/x-python",
   "name": "python",
   "nbconvert_exporter": "python",
   "pygments_lexer": "ipython3",
   "version": "3.12.6"
  }
 },
 "nbformat": 4,
 "nbformat_minor": 2
}
